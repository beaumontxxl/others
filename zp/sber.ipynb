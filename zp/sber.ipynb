{
 "cells": [
  {
   "cell_type": "code",
   "execution_count": 1,
   "id": "82bcf105",
   "metadata": {},
   "outputs": [],
   "source": [
    "import numpy as np\n",
    "import pandas as pd\n",
    "df = pd.read_excel(\"СберМаркет Итог Август.xlsx\")\n",
    "df2 = pd.read_excel(\"СберМаркет Итог Август.xlsx\", sheet_name='Счет выгрузки', header=None)\n",
    "df = df[['utm_campaign', 'Профиль', 'Unnamed: 17']]\n",
    "df_msk = df[df['Unnamed: 17'] == 2]\n",
    "df_else = df[df['Unnamed: 17'] == 1]"
   ]
  },
  {
   "cell_type": "code",
   "execution_count": 2,
   "id": "7e080d0a",
   "metadata": {},
   "outputs": [],
   "source": [
    "def zp(x):\n",
    "    if 'Универсал' in x:\n",
    "        return 100\n",
    "    if 'Сборщик' in x:\n",
    "        return 50\n",
    "    if 'Водитель' in x:\n",
    "        return 110\n",
    "    if 'Универсал на машине' in x:\n",
    "        return 140\n",
    "    if 'Пеший курьер' in x:\n",
    "        return 100\n",
    "    return 0"
   ]
  },
  {
   "cell_type": "code",
   "execution_count": 3,
   "id": "7db464cb",
   "metadata": {},
   "outputs": [],
   "source": [
    "def zp2(x):\n",
    "    if 'Универсал' in x:\n",
    "        return 80\n",
    "    if 'Сборщик' in x:\n",
    "        return 50\n",
    "    if 'Водитель' in x:\n",
    "        return 100\n",
    "    if 'Универсал на машине' in x:\n",
    "        return 100\n",
    "    if 'Пеший курьер' in x:\n",
    "        return 80\n",
    "    return 0"
   ]
  },
  {
   "cell_type": "code",
   "execution_count": 4,
   "id": "53e36125",
   "metadata": {},
   "outputs": [],
   "source": [
    "def m(x):\n",
    "    if 'm' in x:\n",
    "        return x.replace('m', '')"
   ]
  },
  {
   "cell_type": "code",
   "execution_count": 5,
   "id": "d55c20d0",
   "metadata": {},
   "outputs": [
    {
     "name": "stderr",
     "output_type": "stream",
     "text": [
      "C:\\Users\\asd\\AppData\\Local\\Temp\\ipykernel_8996\\599963294.py:1: SettingWithCopyWarning: \n",
      "A value is trying to be set on a copy of a slice from a DataFrame.\n",
      "Try using .loc[row_indexer,col_indexer] = value instead\n",
      "\n",
      "See the caveats in the documentation: https://pandas.pydata.org/pandas-docs/stable/user_guide/indexing.html#returning-a-view-versus-a-copy\n",
      "  df_msk['zp'] = df_msk['Профиль'].apply(zp)\n",
      "C:\\Users\\asd\\AppData\\Local\\Temp\\ipykernel_8996\\599963294.py:2: SettingWithCopyWarning: \n",
      "A value is trying to be set on a copy of a slice from a DataFrame.\n",
      "Try using .loc[row_indexer,col_indexer] = value instead\n",
      "\n",
      "See the caveats in the documentation: https://pandas.pydata.org/pandas-docs/stable/user_guide/indexing.html#returning-a-view-versus-a-copy\n",
      "  df_else['zp'] = df_else['Профиль'].apply(zp2)\n"
     ]
    }
   ],
   "source": [
    "df_msk['zp'] = df_msk['Профиль'].apply(zp)\n",
    "df_else['zp'] = df_else['Профиль'].apply(zp2)"
   ]
  },
  {
   "cell_type": "code",
   "execution_count": 6,
   "id": "12448c98",
   "metadata": {},
   "outputs": [],
   "source": [
    "new_df = pd.concat([df_msk, df_else])"
   ]
  },
  {
   "cell_type": "code",
   "execution_count": 7,
   "id": "0b9cc06f",
   "metadata": {},
   "outputs": [],
   "source": [
    "df = new_df.groupby('utm_campaign')['zp'].agg(['count', 'sum'])"
   ]
  },
  {
   "cell_type": "code",
   "execution_count": 8,
   "id": "db0b52f7",
   "metadata": {},
   "outputs": [],
   "source": [
    "df['- 3%'] = df['sum'] * 0.97"
   ]
  },
  {
   "cell_type": "code",
   "execution_count": 9,
   "id": "c8df48b8",
   "metadata": {},
   "outputs": [],
   "source": [
    "df = df.reset_index()\n",
    "df.columns = ['id менеджера', 'Количество', 'Cумма', '- 3%']"
   ]
  },
  {
   "cell_type": "code",
   "execution_count": 10,
   "id": "14027c55",
   "metadata": {},
   "outputs": [],
   "source": [
    "df2 = df2[[0, 1]]\n",
    "df2.columns=['id менеджера', 'Фамилия']\n",
    "df = df.merge(df2, how='left', on='id менеджера')\n",
    "df = df[['id менеджера', 'Фамилия', 'Количество', 'Cумма', '- 3%']]"
   ]
  },
  {
   "cell_type": "code",
   "execution_count": 11,
   "id": "faf1a613",
   "metadata": {},
   "outputs": [],
   "source": [
    "df.to_excel('sber_august.xlsx', index= False )"
   ]
  }
 ],
 "metadata": {
  "kernelspec": {
   "display_name": "Python 3 (ipykernel)",
   "language": "python",
   "name": "python3"
  },
  "language_info": {
   "codemirror_mode": {
    "name": "ipython",
    "version": 3
   },
   "file_extension": ".py",
   "mimetype": "text/x-python",
   "name": "python",
   "nbconvert_exporter": "python",
   "pygments_lexer": "ipython3",
   "version": "3.11.3"
  }
 },
 "nbformat": 4,
 "nbformat_minor": 5
}
