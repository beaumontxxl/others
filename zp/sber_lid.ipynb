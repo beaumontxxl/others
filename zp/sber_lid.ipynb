{
 "cells": [
  {
   "cell_type": "code",
   "execution_count": 2,
   "id": "0be15d6c",
   "metadata": {},
   "outputs": [],
   "source": [
    "import numpy as np\n",
    "import pandas as pd\n",
    "df = pd.read_excel(\"СберМаркет итог Июль 2023.xlsx\")\n",
    "df = df[['utm_campaign', 'Город', 'Профиль', 'Unnamed: 22']]\n",
    "df = df[df['utm_campaign'] == 'm134']\n",
    "df_msk = df[df['Unnamed: 22'] == 2]\n",
    "df_else = df[df['Unnamed: 22'] == 1]"
   ]
  },
  {
   "cell_type": "code",
   "execution_count": 3,
   "id": "13593d65",
   "metadata": {},
   "outputs": [],
   "source": [
    "def zp(x):\n",
    "    if 'Универсал' in x:\n",
    "        return 100\n",
    "    if 'Сборщик' in x:\n",
    "        return 50\n",
    "    if 'Водитель' in x:\n",
    "        return 110\n",
    "    if 'Универсал на машине' in x:\n",
    "        return 140\n",
    "    if 'Пеший курьер' in x:\n",
    "        return 100\n",
    "    return 0"
   ]
  },
  {
   "cell_type": "code",
   "execution_count": 4,
   "id": "02e81301",
   "metadata": {},
   "outputs": [],
   "source": [
    "def zp2(x):\n",
    "    if 'Универсал' in x:\n",
    "        return 80\n",
    "    if 'Сборщик' in x:\n",
    "        return 50\n",
    "    if 'Водитель' in x:\n",
    "        return 100\n",
    "    if 'Универсал на машине' in x:\n",
    "        return 100\n",
    "    if 'Пеший курьер' in x:\n",
    "        return 80\n",
    "    return 0"
   ]
  },
  {
   "cell_type": "code",
   "execution_count": 5,
   "id": "8733f1b8",
   "metadata": {},
   "outputs": [
    {
     "data": {
      "text/html": [
       "<div>\n",
       "<style scoped>\n",
       "    .dataframe tbody tr th:only-of-type {\n",
       "        vertical-align: middle;\n",
       "    }\n",
       "\n",
       "    .dataframe tbody tr th {\n",
       "        vertical-align: top;\n",
       "    }\n",
       "\n",
       "    .dataframe thead th {\n",
       "        text-align: right;\n",
       "    }\n",
       "</style>\n",
       "<table border=\"1\" class=\"dataframe\">\n",
       "  <thead>\n",
       "    <tr style=\"text-align: right;\">\n",
       "      <th></th>\n",
       "      <th>utm_campaign</th>\n",
       "      <th>Город</th>\n",
       "      <th>Профиль</th>\n",
       "      <th>Unnamed: 22</th>\n",
       "    </tr>\n",
       "  </thead>\n",
       "  <tbody>\n",
       "    <tr>\n",
       "      <th>109</th>\n",
       "      <td>m134</td>\n",
       "      <td>Екатеринбург</td>\n",
       "      <td>Сборщик</td>\n",
       "      <td>2</td>\n",
       "    </tr>\n",
       "    <tr>\n",
       "      <th>134</th>\n",
       "      <td>m134</td>\n",
       "      <td>Екатеринбург</td>\n",
       "      <td>Универсал</td>\n",
       "      <td>2</td>\n",
       "    </tr>\n",
       "    <tr>\n",
       "      <th>279</th>\n",
       "      <td>m134</td>\n",
       "      <td>МО, Волоколамск</td>\n",
       "      <td>Универсал</td>\n",
       "      <td>2</td>\n",
       "    </tr>\n",
       "    <tr>\n",
       "      <th>296</th>\n",
       "      <td>m134</td>\n",
       "      <td>МО, Клин</td>\n",
       "      <td>Универсал</td>\n",
       "      <td>2</td>\n",
       "    </tr>\n",
       "    <tr>\n",
       "      <th>297</th>\n",
       "      <td>m134</td>\n",
       "      <td>МО, Клин</td>\n",
       "      <td>Универсал</td>\n",
       "      <td>2</td>\n",
       "    </tr>\n",
       "    <tr>\n",
       "      <th>...</th>\n",
       "      <td>...</td>\n",
       "      <td>...</td>\n",
       "      <td>...</td>\n",
       "      <td>...</td>\n",
       "    </tr>\n",
       "    <tr>\n",
       "      <th>4686</th>\n",
       "      <td>m134</td>\n",
       "      <td>Самара</td>\n",
       "      <td>Универсал</td>\n",
       "      <td>2</td>\n",
       "    </tr>\n",
       "    <tr>\n",
       "      <th>5796</th>\n",
       "      <td>m134</td>\n",
       "      <td>МО, Дмитров</td>\n",
       "      <td>Универсал</td>\n",
       "      <td>2</td>\n",
       "    </tr>\n",
       "    <tr>\n",
       "      <th>5797</th>\n",
       "      <td>m134</td>\n",
       "      <td>МО, Дмитров</td>\n",
       "      <td>Универсал</td>\n",
       "      <td>2</td>\n",
       "    </tr>\n",
       "    <tr>\n",
       "      <th>5798</th>\n",
       "      <td>m134</td>\n",
       "      <td>МО, Дмитров</td>\n",
       "      <td>Универсал</td>\n",
       "      <td>2</td>\n",
       "    </tr>\n",
       "    <tr>\n",
       "      <th>5829</th>\n",
       "      <td>m134</td>\n",
       "      <td>Москва</td>\n",
       "      <td>Универсал</td>\n",
       "      <td>2</td>\n",
       "    </tr>\n",
       "  </tbody>\n",
       "</table>\n",
       "<p>114 rows × 4 columns</p>\n",
       "</div>"
      ],
      "text/plain": [
       "     utm_campaign            Город    Профиль  Unnamed: 22\n",
       "109          m134     Екатеринбург    Сборщик            2\n",
       "134          m134     Екатеринбург  Универсал            2\n",
       "279          m134  МО, Волоколамск  Универсал            2\n",
       "296          m134         МО, Клин  Универсал            2\n",
       "297          m134         МО, Клин  Универсал            2\n",
       "...           ...              ...        ...          ...\n",
       "4686         m134           Самара  Универсал            2\n",
       "5796         m134      МО, Дмитров  Универсал            2\n",
       "5797         m134      МО, Дмитров  Универсал            2\n",
       "5798         m134      МО, Дмитров  Универсал            2\n",
       "5829         m134           Москва  Универсал            2\n",
       "\n",
       "[114 rows x 4 columns]"
      ]
     },
     "execution_count": 5,
     "metadata": {},
     "output_type": "execute_result"
    }
   ],
   "source": [
    "df_msk"
   ]
  },
  {
   "cell_type": "code",
   "execution_count": 4,
   "id": "fe1590a1",
   "metadata": {
    "collapsed": true
   },
   "outputs": [
    {
     "name": "stderr",
     "output_type": "stream",
     "text": [
      "C:\\Users\\asd\\AppData\\Local\\Temp\\ipykernel_12304\\599963294.py:1: SettingWithCopyWarning: \n",
      "A value is trying to be set on a copy of a slice from a DataFrame.\n",
      "Try using .loc[row_indexer,col_indexer] = value instead\n",
      "\n",
      "See the caveats in the documentation: https://pandas.pydata.org/pandas-docs/stable/user_guide/indexing.html#returning-a-view-versus-a-copy\n",
      "  df_msk['zp'] = df_msk['Профиль'].apply(zp)\n",
      "C:\\Users\\asd\\AppData\\Local\\Temp\\ipykernel_12304\\599963294.py:2: SettingWithCopyWarning: \n",
      "A value is trying to be set on a copy of a slice from a DataFrame.\n",
      "Try using .loc[row_indexer,col_indexer] = value instead\n",
      "\n",
      "See the caveats in the documentation: https://pandas.pydata.org/pandas-docs/stable/user_guide/indexing.html#returning-a-view-versus-a-copy\n",
      "  df_else['zp'] = df_else['Профиль'].apply(zp2)\n"
     ]
    }
   ],
   "source": [
    "df_msk['zp'] = df_msk['Профиль'].apply(zp)\n",
    "df_else['zp'] = df_else['Профиль'].apply(zp2)"
   ]
  },
  {
   "cell_type": "code",
   "execution_count": 5,
   "id": "9bf9f972",
   "metadata": {},
   "outputs": [],
   "source": [
    "new_df = pd.concat([df_msk, df_else])"
   ]
  }
 ],
 "metadata": {
  "kernelspec": {
   "display_name": "Python 3 (ipykernel)",
   "language": "python",
   "name": "python3"
  },
  "language_info": {
   "codemirror_mode": {
    "name": "ipython",
    "version": 3
   },
   "file_extension": ".py",
   "mimetype": "text/x-python",
   "name": "python",
   "nbconvert_exporter": "python",
   "pygments_lexer": "ipython3",
   "version": "3.11.3"
  }
 },
 "nbformat": 4,
 "nbformat_minor": 5
}
