{
 "cells": [
  {
   "cell_type": "markdown",
   "id": "04e72c93",
   "metadata": {},
   "source": [
    "# Задание 1. SQL\n",
    "Найдите город, пользователи которого в возрасте 36 лет 2021-12-01 числа просмотрели запись на тему `covid` меньше всего раз относительно других городов.\n",
    "####  Как подключиться к PostgreSQL через psycopg2:\n",
    "1. Импортируем библиотеку.\n",
    "2. Далее используем данные для входа"
   ]
  },
  {
   "cell_type": "code",
   "execution_count": null,
   "id": "37077255",
   "metadata": {},
   "outputs": [],
   "source": [
    "database=\"startml\",\n",
    "user=\"robot-startml-ro\",\n",
    "password=\"pheiph0hahj1Vaif\",\n",
    "host=\"postgres.lab.karpov.courses\",\n",
    "port=6432"
   ]
  },
  {
   "cell_type": "markdown",
   "id": "1341bdfb",
   "metadata": {},
   "source": [
    "В конце работы необходимо закрывать курсор и соединение с БД:"
   ]
  },
  {
   "cell_type": "code",
   "execution_count": null,
   "id": "e9c5126e",
   "metadata": {},
   "outputs": [],
   "source": [
    "cursor.close() \n",
    "connection.close()"
   ]
  },
  {
   "cell_type": "markdown",
   "id": "e3a3faa2",
   "metadata": {},
   "source": [
    "#### Как подключиться к PostgreSQL через pandas:"
   ]
  },
  {
   "cell_type": "code",
   "execution_count": null,
   "id": "d5fc64d2",
   "metadata": {},
   "outputs": [],
   "source": [
    "import pandas as pd\n",
    "\n",
    "df = pd.read_sql(\n",
    "    \"\"\"SELECT * FROM \"feed_action\" LIMIT 10 \"\"\",\n",
    "    con=\"postgresql://robot-startml-ro:pheiph0hahj1Vaif@\"\n",
    "        \"postgres.lab.karpov.courses:6432/startml\"\n",
    ")\n",
    "\n",
    "df.head()"
   ]
  },
  {
   "cell_type": "markdown",
   "id": "7838d398",
   "metadata": {},
   "source": [
    "### В базе данных имеется три таблицы:\n",
    "\n",
    "#### 1. Таблица с данными о пользователях (`user`):\n",
    "\n",
    "`id` - уникальный идентификатор пользователя (primary key)\n",
    "\n",
    "`gender` - пол\n",
    "\n",
    "`age` - возраст\n",
    "\n",
    "`country` - страна\n",
    "\n",
    "`city` - город\n",
    "\n",
    "`exp_group` - экспериментальная группа\n",
    "\n",
    "`os` - операционная система\n",
    "\n",
    "`source` - источник трафика\n",
    "\n",
    "#### 2. Таблица с данными о постах (`post`):\n",
    "\n",
    "`id` - уникальный идентификатор поста (primary key)\n",
    "\n",
    "`text` - текст поста\n",
    "\n",
    "`topic` - тема поста\n",
    "\n",
    "#### 3. Таблица с данными о действиях пользователей (`feed_action`):\n",
    "\n",
    "`user_id` (——>) `user (id)` - идентификатор пользователя     \n",
    "\n",
    "`post_id` (——>) `post (id)` - идентификатор поста     \n",
    "\n",
    "`action` - совершенное в сети действие     \n",
    "\n",
    "`time` - время действия"
   ]
  },
  {
   "cell_type": "markdown",
   "id": "e412eb9b",
   "metadata": {},
   "source": [
    "# Задание 2. Статистика\n",
    "Воспользуемся доверительными интервалами, чтобы сделать более точные выводы о метриках модели.\n",
    "\n",
    "Для начала скачаем данные:"
   ]
  },
  {
   "cell_type": "code",
   "execution_count": null,
   "id": "3ba8aa74",
   "metadata": {},
   "outputs": [],
   "source": [
    "from sklearn.datasets import fetch_california_housing\n",
    "X, y = fetch_california_housing(return_X_y=True, as_frame=True)"
   ]
  },
  {
   "cell_type": "markdown",
   "id": "b40153c3",
   "metadata": {},
   "source": [
    "Это задача предсказания средней цены в области на дом. Давайте оценим 95-процентный доверительный интервал на MSE Ridge-регрессии для этой выборки. Будем использовать бутстрэп для этого.\n",
    "\n",
    "Для этого в цикле будем генерировать бутстрэп-выборки для обучения модели (то есть брать объекты из выборки с возвращением). В качестве тестовых объектов будем брать оставшиеся объекты. Каждый раз будем обучать модель и оценивать качество.\n",
    "\n",
    "Реализуйте такой код для 95-процентного доверительного интервала на MSE.\n",
    "\n",
    "Используйте 1000 итераций генераций выборки и обучения модели. Данные не обрабатывайте. Полезными методами будут `np.random.choice` для генерации индексов бутстрэп-выборок (не забудьте про «генерацию с возвращением»), `np.setdiff1d` для получения остатка выборки."
   ]
  },
  {
   "cell_type": "markdown",
   "id": "1c4a2991",
   "metadata": {},
   "source": [
    "# Задание 3. Machine learning\n",
    "Чему равно значение метрики AUC ROC у классификатора, который для любого объекта возвращает значение 0.97, если доля положительного класса в выборке составляет 4%?     \n",
    "Опишите свои рассуждения как можно точнее, с расчетами, если они потребуются."
   ]
  },
  {
   "cell_type": "markdown",
   "id": "fc41a15f",
   "metadata": {},
   "source": [
    "# Задание 4. Deep learning\n",
    "Напишите функцию `get_pretrained_model`, которая принимает в качестве аргументов название архитектуры, количество классов для задачи классификации и стоит ли инициализировать модель с помощью полученных в ходе обучения на датасете `ImageNet`. Она должна иметь следующую сигнатуру: `def get_pretrained_model(model_name: str, num_classes: int, pretrained: bool=True):`\n",
    "\n",
    "Будем считать, что на вход могут прийти четыре различных model_name: `alexnet`, `vgg11`, `googlenet` и `resnet18`. Для каждого из них нужно вернуть соответствующую модель из зоопарка моделей `torchvision`.\n",
    "\n",
    "Чтобы понять, как именно модифицировать созданные объекты, посмотрите на исходный код для моделей:\n",
    "\n",
    "https://pytorch.org/hub/pytorch_vision_resnet/    \n",
    "https://pytorch.org/hub/pytorch_vision_alexnet/    \n",
    "https://pytorch.org/hub/pytorch_vision_vgg/    \n",
    "https://pytorch.org/hub/pytorch_vision_googlenet/"
   ]
  },
  {
   "cell_type": "code",
   "execution_count": null,
   "id": "d9071232",
   "metadata": {},
   "outputs": [],
   "source": []
  }
 ],
 "metadata": {
  "kernelspec": {
   "display_name": "Python 3",
   "language": "python",
   "name": "python3"
  },
  "language_info": {
   "codemirror_mode": {
    "name": "ipython",
    "version": 3
   },
   "file_extension": ".py",
   "mimetype": "text/x-python",
   "name": "python",
   "nbconvert_exporter": "python",
   "pygments_lexer": "ipython3",
   "version": "3.8.5"
  }
 },
 "nbformat": 4,
 "nbformat_minor": 5
}
