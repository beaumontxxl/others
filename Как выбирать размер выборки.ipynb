{
 "cells": [
  {
   "cell_type": "markdown",
   "metadata": {},
   "source": [
    "# Как выбирать размер выборки\n",
    "\n",
    "*Подготовил Ян Пиле*"
   ]
  },
  {
   "cell_type": "markdown",
   "metadata": {},
   "source": [
    "Часто, когда собираются проводить АБ-тест, процесс происходит следующим образом:\n",
    "    \n",
    "1) К вам приходит менеджер и говорит: \"Хочу провести АБ с нововведением Х и увеличить тем самым метрику Y\" (например $X = \\text{новый алгоритм ранжирования в ленте новостей}$, а $Y = CTR$\\)\n",
    "\n",
    "2) \"А какой размер эффекта мы хотим увидеть?\"-, спрашиваете Вы.\n",
    "\n",
    "3) \"Какой будет, такой и хотим увидеть,\"- отвечает менеджер\n",
    "\n",
    "Естественно, так ничего не заработает :) Очевидно вы понимаете, что для измерения любого сколь угодно малого эффекта вам нужно иметь бесконечное количество пользователей и, вероятно, бесконечное время проводить эксперимент.\n",
    "\n",
    "Так что же, в итоге, делать?"
   ]
  },
  {
   "cell_type": "markdown",
   "metadata": {},
   "source": [
    "# Калькуляторы размеров выборки"
   ]
  },
  {
   "cell_type": "code",
   "execution_count": 3,
   "metadata": {},
   "outputs": [],
   "source": [
    "import pandahouse\n",
    "import pandas as pd\n",
    "import seaborn as sns\n",
    "import matplotlib.pyplot as plt\n",
    "import numpy as np\n",
    "import hashlib # Делать хеши\n",
    "import swifter # Ускорялка метода apply\n",
    "from scipy import stats # Статистика\n",
    "from scipy.stats import norm, ttest_ind\n",
    "%matplotlib inline"
   ]
  },
  {
   "cell_type": "code",
   "execution_count": 7,
   "metadata": {},
   "outputs": [],
   "source": [
    "# Это мы в Clickhouse ходить будем\n",
    "connection = {\n",
    "    'host': 'https://clickhouse.lab.karpov.courses',\n",
    "    'password': 'dpo_python_2020',\n",
    "    'user': 'student',\n",
    "    'database': 'simulator'\n",
    "}"
   ]
  },
  {
   "cell_type": "markdown",
   "metadata": {},
   "source": [
    "Вероятно для оценки размера выборки вы видели вот такую формулу.\n",
    "\n",
    "$$n > \\frac{\\left[ \\Phi^{-1} \\left( 1-\\alpha \\right) + \\Phi^{-1} \\left( 1-\\beta \\right) \\right]^2 (\\sigma_X^2 + \\sigma_Y^2)}{\\varepsilon^2}$$\n",
    "\n",
    "Здесь $\\varepsilon$ - размер эффекта, $\\alpha$ - вероятность ошибки первого рода, $\\beta$ - вероятность ошибки 2 рода\n",
    "\n",
    "<img src = \"https://alexanderdyakonov.files.wordpress.com/2019/05/d0b01.jpg?w=700\">\n",
    "\n",
    "Где здесь какая ошибка?"
   ]
  },
  {
   "cell_type": "code",
   "execution_count": 39,
   "metadata": {},
   "outputs": [],
   "source": [
    "def compute_sample_size_abs(epsilon, std1, std2, alpha=0.05, beta=0.2):\n",
    "    t_alpha = norm.ppf(1 - alpha / 2, loc=0, scale=1)\n",
    "    t_beta = norm.ppf(1 - beta, loc=0, scale=1)\n",
    "    z_scores_sum_squared = (t_alpha + t_beta) ** 2\n",
    "    sample_size = int(\n",
    "        np.ceil(\n",
    "            z_scores_sum_squared * (std1 ** 2 + std2 ** 2) / (epsilon ** 2)\n",
    "        )\n",
    "    )\n",
    "    return sample_size"
   ]
  },
  {
   "cell_type": "markdown",
   "metadata": {},
   "source": [
    "# Как на самом деле сосчитать размер выборки. \n",
    "\n",
    "## Допустим, мы считаем наш CTR"
   ]
  },
  {
   "cell_type": "markdown",
   "metadata": {},
   "source": [
    "[График про CTR](https://redash.lab.karpov.courses/queries/16866/source?p_date=2021-11-10--2021-11-10&p_exp_groups=%5B%222%22%2C%221%22%2C%223%22%2C%224%22%5D#35508)\n",
    "\n",
    "[График про views](https://redash.lab.karpov.courses/queries/16866/source?p_date=2021-11-08--2021-11-14&p_exp_groups=%5B%222%22%2C%221%22%2C%223%22%2C%224%22%5D#35508)"
   ]
  },
  {
   "cell_type": "code",
   "execution_count": 206,
   "metadata": {},
   "outputs": [],
   "source": [
    "q = \"\"\"\n",
    "select views, count() as users\n",
    "from (select  \n",
    "    exp_group,\n",
    "    user_id,\n",
    "    sum(action = 'view') as views\n",
    "from simulator.feed_actions\n",
    "where toDate(time) between '2021-11-08' and '2021-11-14'\n",
    "    and exp_group in (1,2,3,4,5)\n",
    "group by exp_group, user_id\n",
    ")\n",
    "group by views\n",
    "order by views\n",
    "\"\"\"\n",
    "\n",
    "\n",
    "views_distribution = pandahouse.read_clickhouse(q, connection=connection)"
   ]
  },
  {
   "cell_type": "code",
   "execution_count": 207,
   "metadata": {},
   "outputs": [
    {
     "data": {
      "text/plain": [
       "34101"
      ]
     },
     "execution_count": 207,
     "metadata": {},
     "output_type": "execute_result"
    }
   ],
   "source": [
    "views_distribution.users.sum()"
   ]
  },
  {
   "cell_type": "code",
   "execution_count": 208,
   "metadata": {},
   "outputs": [],
   "source": [
    "views_distribution['p'] = views_distribution['users']/views_distribution.users.sum()"
   ]
  },
  {
   "cell_type": "code",
   "execution_count": 210,
   "metadata": {},
   "outputs": [
    {
     "data": {
      "text/html": [
       "<div>\n",
       "<style scoped>\n",
       "    .dataframe tbody tr th:only-of-type {\n",
       "        vertical-align: middle;\n",
       "    }\n",
       "\n",
       "    .dataframe tbody tr th {\n",
       "        vertical-align: top;\n",
       "    }\n",
       "\n",
       "    .dataframe thead th {\n",
       "        text-align: right;\n",
       "    }\n",
       "</style>\n",
       "<table border=\"1\" class=\"dataframe\">\n",
       "  <thead>\n",
       "    <tr style=\"text-align: right;\">\n",
       "      <th></th>\n",
       "      <th>views</th>\n",
       "      <th>users</th>\n",
       "      <th>p</th>\n",
       "    </tr>\n",
       "  </thead>\n",
       "  <tbody>\n",
       "    <tr>\n",
       "      <th>15</th>\n",
       "      <td>16</td>\n",
       "      <td>427</td>\n",
       "      <td>0.012522</td>\n",
       "    </tr>\n",
       "    <tr>\n",
       "      <th>14</th>\n",
       "      <td>15</td>\n",
       "      <td>420</td>\n",
       "      <td>0.012316</td>\n",
       "    </tr>\n",
       "    <tr>\n",
       "      <th>16</th>\n",
       "      <td>17</td>\n",
       "      <td>420</td>\n",
       "      <td>0.012316</td>\n",
       "    </tr>\n",
       "    <tr>\n",
       "      <th>13</th>\n",
       "      <td>14</td>\n",
       "      <td>394</td>\n",
       "      <td>0.011554</td>\n",
       "    </tr>\n",
       "    <tr>\n",
       "      <th>30</th>\n",
       "      <td>31</td>\n",
       "      <td>394</td>\n",
       "      <td>0.011554</td>\n",
       "    </tr>\n",
       "    <tr>\n",
       "      <th>...</th>\n",
       "      <td>...</td>\n",
       "      <td>...</td>\n",
       "      <td>...</td>\n",
       "    </tr>\n",
       "    <tr>\n",
       "      <th>287</th>\n",
       "      <td>289</td>\n",
       "      <td>1</td>\n",
       "      <td>0.000029</td>\n",
       "    </tr>\n",
       "    <tr>\n",
       "      <th>288</th>\n",
       "      <td>290</td>\n",
       "      <td>1</td>\n",
       "      <td>0.000029</td>\n",
       "    </tr>\n",
       "    <tr>\n",
       "      <th>291</th>\n",
       "      <td>293</td>\n",
       "      <td>1</td>\n",
       "      <td>0.000029</td>\n",
       "    </tr>\n",
       "    <tr>\n",
       "      <th>292</th>\n",
       "      <td>294</td>\n",
       "      <td>1</td>\n",
       "      <td>0.000029</td>\n",
       "    </tr>\n",
       "    <tr>\n",
       "      <th>314</th>\n",
       "      <td>371</td>\n",
       "      <td>1</td>\n",
       "      <td>0.000029</td>\n",
       "    </tr>\n",
       "  </tbody>\n",
       "</table>\n",
       "<p>315 rows × 3 columns</p>\n",
       "</div>"
      ],
      "text/plain": [
       "     views  users         p\n",
       "15      16    427  0.012522\n",
       "14      15    420  0.012316\n",
       "16      17    420  0.012316\n",
       "13      14    394  0.011554\n",
       "30      31    394  0.011554\n",
       "..     ...    ...       ...\n",
       "287    289      1  0.000029\n",
       "288    290      1  0.000029\n",
       "291    293      1  0.000029\n",
       "292    294      1  0.000029\n",
       "314    371      1  0.000029\n",
       "\n",
       "[315 rows x 3 columns]"
      ]
     },
     "execution_count": 210,
     "metadata": {},
     "output_type": "execute_result"
    }
   ],
   "source": [
    "views_distribution.sort_values(by = 'p', ascending = False)"
   ]
  },
  {
   "cell_type": "markdown",
   "metadata": {},
   "source": [
    "## Вот наше настоящее распределение просмотров"
   ]
  },
  {
   "cell_type": "code",
   "execution_count": 211,
   "metadata": {},
   "outputs": [],
   "source": [
    "views_distr = stats.rv_discrete(name='views_distr', \n",
    "                                values=(views_distribution['views'], \n",
    "                                        views_distribution['p']))"
   ]
  },
  {
   "cell_type": "markdown",
   "metadata": {},
   "source": [
    "У $CTR$ разброс где-то от 0.2 до 0.22 по дням. Запомним это)"
   ]
  },
  {
   "cell_type": "markdown",
   "metadata": {},
   "source": [
    "Достанем распределение CTR'ов за неделю"
   ]
  },
  {
   "cell_type": "code",
   "execution_count": 212,
   "metadata": {},
   "outputs": [],
   "source": [
    "q = \"\"\"\n",
    "select \n",
    "   floor(ctr, 2) as ctr, count() as users\n",
    "from (select toDate(time) as dt, \n",
    "    exp_group,\n",
    "    user_id,\n",
    "    sum(action = 'like')/sum(action = 'view') as ctr\n",
    "from simulator.feed_actions\n",
    "where dt between '2021-11-08' and '2021-11-14'\n",
    "    and exp_group in (1,2,3,4,5)\n",
    "group by dt, exp_group, user_id\n",
    ")\n",
    "group by ctr\n",
    "\"\"\"\n",
    "\n",
    "\n",
    "ctr_distribution = pandahouse.read_clickhouse(q, connection=connection)\n",
    "ctr_distribution['p'] = ctr_distribution['users']/ctr_distribution.users.sum()"
   ]
  },
  {
   "cell_type": "code",
   "execution_count": 213,
   "metadata": {},
   "outputs": [],
   "source": [
    "probabilities = ctr_distribution['p']\n",
    "values = ctr_distribution['ctr']\n",
    "distrib = stats.rv_discrete(values=(range(len(probabilities)), probabilities))\n",
    "\n",
    "def get_ctrs(x, y):\n",
    "    idx = distrib.rvs(size=x*y)\n",
    "    result = values[idx]\n",
    "    return np.array(result).reshape(x,y)"
   ]
  },
  {
   "cell_type": "markdown",
   "metadata": {},
   "source": [
    "Так, средний CTR у нас был 0.21. допустим, мы хотим замечать изменение на 0.01 (то есть это на 5%)"
   ]
  },
  {
   "cell_type": "code",
   "execution_count": null,
   "metadata": {},
   "outputs": [],
   "source": []
  },
  {
   "cell_type": "markdown",
   "metadata": {},
   "source": [
    "# Синтетический А-А тест"
   ]
  },
  {
   "cell_type": "code",
   "execution_count": 214,
   "metadata": {},
   "outputs": [
    {
     "data": {
      "text/plain": [
       "0.0960017672016029"
      ]
     },
     "execution_count": 214,
     "metadata": {},
     "output_type": "execute_result"
    }
   ],
   "source": [
    "q = \"\"\"\n",
    "select \n",
    "   stddevPop(ctr) as ctr_std\n",
    "from (select toDate(time) as dt, \n",
    "    exp_group,\n",
    "    user_id,\n",
    "    sum(action = 'like')/sum(action = 'view') as ctr\n",
    "from simulator.feed_actions\n",
    "where dt between '2021-11-08' and '2021-11-14'\n",
    "    and exp_group in (1,2,3,4,5)\n",
    "group by dt, exp_group, user_id\n",
    ")\n",
    "\n",
    "\"\"\"\n",
    "\n",
    "std = pandahouse.read_clickhouse(q, connection=connection).values[0][0]\n",
    "std"
   ]
  },
  {
   "cell_type": "code",
   "execution_count": 215,
   "metadata": {},
   "outputs": [
    {
     "data": {
      "text/plain": [
       "1447"
      ]
     },
     "execution_count": 215,
     "metadata": {},
     "output_type": "execute_result"
    }
   ],
   "source": [
    "compute_sample_size_abs(0.01, std, std)"
   ]
  },
  {
   "cell_type": "code",
   "execution_count": 225,
   "metadata": {},
   "outputs": [],
   "source": [
    "group_A_views = views_distr.rvs(size = (2000, 2000))\n",
    "group_B_views = views_distr.rvs(size = (2000, 2000))\n",
    "group_A_ctr = get_ctrs(2000, 2000)*1.05\n",
    "group_B_ctr = get_ctrs(2000,2000)\n",
    "clicks_A = stats.binom.rvs(group_A_views, group_A_ctr)\n",
    "clicks_B = stats.binom.rvs(group_B_views, group_B_ctr)"
   ]
  },
  {
   "cell_type": "code",
   "execution_count": 220,
   "metadata": {},
   "outputs": [],
   "source": [
    "def t_test(a, b):\n",
    "    \"\"\"\n",
    "    Считает p-value для t-теста с двусторонней альтернативой \n",
    "    :param a: np.array вида (n_experiments, n_users), значения метрик в контрольных группах\n",
    "    :param b: np.array вида (n_experiments, n_users), значения метрик в тестовых группах\n",
    "    :return: np.array вида (n_experiments), посчитанные p-value t-теста для всего списка экспериментов\n",
    "    \"\"\"\n",
    "    result = list(map(lambda x: stats.ttest_ind(\n",
    "        x[0], x[1]).pvalue, zip(a, b)))\n",
    "    return np.array(result)"
   ]
  },
  {
   "cell_type": "code",
   "execution_count": 226,
   "metadata": {},
   "outputs": [
    {
     "data": {
      "text/plain": [
       "0.8405"
      ]
     },
     "execution_count": 226,
     "metadata": {},
     "output_type": "execute_result"
    }
   ],
   "source": [
    "np.sum(t_test(clicks_A/group_A_views, clicks_B/group_B_views)<= 0.05)/2000"
   ]
  },
  {
   "cell_type": "code",
   "execution_count": 108,
   "metadata": {},
   "outputs": [
    {
     "data": {
      "text/plain": [
       "(10000,)"
      ]
     },
     "execution_count": 108,
     "metadata": {},
     "output_type": "execute_result"
    }
   ],
   "source": [
    "t_test(clicks_A, clicks_B).shape"
   ]
  },
  {
   "cell_type": "code",
   "execution_count": null,
   "metadata": {},
   "outputs": [],
   "source": []
  },
  {
   "cell_type": "markdown",
   "metadata": {},
   "source": [
    "# Бакетное преобразование"
   ]
  },
  {
   "cell_type": "code",
   "execution_count": 228,
   "metadata": {},
   "outputs": [],
   "source": [
    "def bucketization(ctrs_0, weights_0, ctrs_1, weights_1, n_buckets=100):\n",
    "    \"\"\"\n",
    "    Разбиваем на бакеты с весами\n",
    "    :param ctrs_0: np.array shape (n_experiments, n_users), CTRs of every user from control group in every experiment\n",
    "    :param weights_0: np.array (n_experiments, n_users), веса пользователей в контрольной группе\n",
    "    :param ctrs_1: np.array (n_experiments, n_users), CTRs of every user from treatment group in every experiment\n",
    "    :param weights_1: np.array (n_experiments, n_users), веса пользователей в целевой группе\n",
    "    :param n_buckets: int, кол-во бакетов\n",
    "    :return: np.array shape (n_experiments), средневзвешенные метрики в каждом бакете\n",
    "    \"\"\"\n",
    "\n",
    "    n_experiments, n_users = ctrs_0.shape\n",
    "\n",
    "    values_0 = np.zeros((n_experiments, n_buckets))\n",
    "    values_1 = np.zeros((n_experiments, n_buckets))\n",
    "\n",
    "    for b in np.arange(n_buckets):\n",
    "        ind = np.arange(b * n_users / n_buckets, b * n_users / n_buckets + n_users / n_buckets).astype(np.int)\n",
    "        values_0[:, b] = np.sum(ctrs_0[:, ind] * weights_0[:, ind], axis=1) / np.sum(weights_0[:, ind], axis=1)\n",
    "        values_1[:, b] = np.sum(ctrs_1[:, ind] * weights_1[:, ind], axis=1) / np.sum(weights_1[:, ind], axis=1)\n",
    "\n",
    "    return values_0, values_1"
   ]
  },
  {
   "cell_type": "code",
   "execution_count": 229,
   "metadata": {},
   "outputs": [],
   "source": [
    "# t-тест поверх бакетов\n",
    "def t_test_buckets(ctrs_0, weights_0, ctrs_1, weights_1, n_buckets=100):\n",
    "    return t_test(*bucketization(ctrs_0, weights_0, ctrs_1, weights_1, n_buckets))\n",
    "\n",
    "# тест Манна-Уитни поверх бакетов\n",
    "def mannwhitney_buckets(ctrs_0, weights_0, ctrs_1, weights_1, n_buckets=100):\n",
    "    return mannwhitney(*bucketization(ctrs_0, weights_0, ctrs_1, weights_1, n_buckets))"
   ]
  },
  {
   "cell_type": "code",
   "execution_count": 230,
   "metadata": {},
   "outputs": [],
   "source": [
    "p_values_ab = mannwhitney_buckets(\n",
    "        clicks_A/group_A_views, group_A_views,\n",
    "        clicks_B/group_B_views, group_B_views)"
   ]
  },
  {
   "cell_type": "code",
   "execution_count": 232,
   "metadata": {},
   "outputs": [
    {
     "data": {
      "text/plain": [
       "0.745"
      ]
     },
     "execution_count": 232,
     "metadata": {},
     "output_type": "execute_result"
    }
   ],
   "source": [
    "np.sum(p_values_ab<= 0.05)/2000"
   ]
  },
  {
   "cell_type": "markdown",
   "metadata": {},
   "source": [
    "# Линеаризация"
   ]
  },
  {
   "cell_type": "code",
   "execution_count": 233,
   "metadata": {},
   "outputs": [],
   "source": [
    "group_A_views = views_distr.rvs(size = (2000, 2000))\n",
    "group_B_views = views_distr.rvs(size = (2000, 2000))\n",
    "group_A_ctr = get_ctrs(2000, 2000)*1.05\n",
    "group_B_ctr = get_ctrs(2000,2000)\n",
    "clicks_A = stats.binom.rvs(group_A_views, group_A_ctr)\n",
    "clicks_B = stats.binom.rvs(group_B_views, group_B_ctr)"
   ]
  },
  {
   "cell_type": "code",
   "execution_count": 234,
   "metadata": {},
   "outputs": [],
   "source": [
    "control_ctr = stats.binom.rvs(group_B_views, group_B_ctr).sum(axis = 1)/group_B_views.sum(axis = 1)"
   ]
  },
  {
   "cell_type": "code",
   "execution_count": 235,
   "metadata": {},
   "outputs": [],
   "source": [
    "linearized_A = clicks_A - (group_A_views.T*control_ctr).T\n",
    "linearized_B = clicks_B - (group_B_views.T*control_ctr).T"
   ]
  },
  {
   "cell_type": "code",
   "execution_count": 236,
   "metadata": {},
   "outputs": [],
   "source": [
    "linearization_p_values = t_test(linearized_A, linearized_B)"
   ]
  },
  {
   "cell_type": "code",
   "execution_count": 238,
   "metadata": {},
   "outputs": [
    {
     "data": {
      "text/plain": [
       "0.777"
      ]
     },
     "execution_count": 238,
     "metadata": {},
     "output_type": "execute_result"
    }
   ],
   "source": [
    "sum(linearization_p_values<=0.05)/2000"
   ]
  },
  {
   "cell_type": "markdown",
   "metadata": {},
   "source": [
    "# А на самом деле просмотры обычно выглядят не так..."
   ]
  },
  {
   "cell_type": "code",
   "execution_count": 239,
   "metadata": {},
   "outputs": [],
   "source": [
    "mu = 1\n",
    "sigma2 = 1.5\n",
    "N = 1447\n",
    "experiments = 1000\n",
    "views_lognormal = np.absolute(np.exp(norm(mu, sigma2).rvs(\n",
    "    experiments * N)).astype(np.int64).reshape(experiments, N) + 1)"
   ]
  },
  {
   "cell_type": "code",
   "execution_count": 240,
   "metadata": {},
   "outputs": [
    {
     "data": {
      "text/plain": [
       "Text(0.5, 1.0, 'Views, 99%-ile = 90.0   ')"
      ]
     },
     "execution_count": 240,
     "metadata": {},
     "output_type": "execute_result"
    },
    {
     "data": {
      "image/png": "[encoded data removed]",
      "text/plain": [
       "<Figure size 432x288 with 1 Axes>"
      ]
     },
     "metadata": {
      "needs_background": "light"
     },
     "output_type": "display_data"
    }
   ],
   "source": [
    "fig = plt.figure()\n",
    "ax_views = fig.add_subplot()\n",
    "views_distr = sns.histplot(views_lognormal.ravel(),  # Теперь это массив длины experiments * N\n",
    "                           bins=range(0, 30),\n",
    "                           kde=False,\n",
    "                           ax=ax_views,\n",
    "                           stat='probability')\n",
    "ax_views.set_xlim((0, 30))\n",
    "views_99_percentile = np.percentile(views_lognormal.ravel(), 99)\n",
    "ax_views.set_title(f'Views, 99%-ile = {views_99_percentile:<7.1f}')"
   ]
  },
  {
   "cell_type": "code",
   "execution_count": 241,
   "metadata": {},
   "outputs": [],
   "source": [
    "def get_views(experiments, N, mu = 1, sigma = 1.5):\n",
    "    views_lognormal = np.absolute(\n",
    "        np.exp(\n",
    "            norm(mu, \n",
    "                 sigma2).rvs(experiments * N)\n",
    "        ).astype(np.int64).reshape(experiments, N) + 1)\n",
    "    return views_lognormal"
   ]
  },
  {
   "cell_type": "code",
   "execution_count": 251,
   "metadata": {},
   "outputs": [],
   "source": [
    "group_A_views = get_views(2000, 11000)\n",
    "group_B_views = get_views(2000, 11000)\n",
    "group_A_ctr = get_ctrs(2000, 11000)*1.05\n",
    "group_B_ctr = get_ctrs(2000,11000)\n",
    "clicks_A = stats.binom.rvs(group_A_views, group_A_ctr)\n",
    "clicks_B = stats.binom.rvs(group_B_views, group_B_ctr)"
   ]
  },
  {
   "cell_type": "code",
   "execution_count": 248,
   "metadata": {},
   "outputs": [
    {
     "data": {
      "text/plain": [
       "12132"
      ]
     },
     "execution_count": 248,
     "metadata": {},
     "output_type": "execute_result"
    }
   ],
   "source": [
    "compute_sample_size_abs(0.01, 0.278, 0.278)"
   ]
  },
  {
   "cell_type": "code",
   "execution_count": 249,
   "metadata": {},
   "outputs": [
    {
     "data": {
      "text/plain": [
       "0.276386468691738"
      ]
     },
     "execution_count": 249,
     "metadata": {},
     "output_type": "execute_result"
    }
   ],
   "source": [
    "(clicks_B/group_B_views).std(axis = 1)[0]"
   ]
  },
  {
   "cell_type": "code",
   "execution_count": 252,
   "metadata": {},
   "outputs": [
    {
     "data": {
      "text/plain": [
       "0.793"
      ]
     },
     "execution_count": 252,
     "metadata": {},
     "output_type": "execute_result"
    }
   ],
   "source": [
    "np.sum(t_test(clicks_A/group_A_views, clicks_B/group_B_views)<= 0.05)/2000"
   ]
  },
  {
   "cell_type": "code",
   "execution_count": 253,
   "metadata": {},
   "outputs": [
    {
     "data": {
      "text/plain": [
       "0.813"
      ]
     },
     "execution_count": 253,
     "metadata": {},
     "output_type": "execute_result"
    }
   ],
   "source": [
    "np.sum(t_test_buckets(clicks_A/group_A_views, \n",
    "                      group_A_views,\n",
    "                      clicks_B/group_B_views, \n",
    "                      group_B_views)<= 0.05)/2000"
   ]
  },
  {
   "cell_type": "markdown",
   "metadata": {},
   "source": [
    "# А если я хочу сдвинуть медиану ..."
   ]
  },
  {
   "cell_type": "code",
   "execution_count": 189,
   "metadata": {},
   "outputs": [],
   "source": [
    "def bucketization_median(ctrs_0, ctrs_1, n_buckets=100):\n",
    "    \"\"\"\n",
    "    Разбиваем на бакеты с весами\n",
    "    :param ctrs_0: np.array shape (n_experiments, n_users), CTRs of every user from control group in every experiment\n",
    "    :param weights_0: np.array (n_experiments, n_users), веса пользователей в контрольной группе\n",
    "    :param ctrs_1: np.array (n_experiments, n_users), CTRs of every user from treatment group in every experiment\n",
    "    :param weights_1: np.array (n_experiments, n_users), веса пользователей в целевой группе\n",
    "    :param n_buckets: int, кол-во бакетов\n",
    "    :return: np.array shape (n_experiments), средневзвешенные метрики в каждом бакете\n",
    "    \"\"\"\n",
    "\n",
    "    n_experiments, n_users = ctrs_0.shape\n",
    "\n",
    "    values_0 = np.zeros((n_experiments, n_buckets))\n",
    "    values_1 = np.zeros((n_experiments, n_buckets))\n",
    "\n",
    "    for b in np.arange(n_buckets):\n",
    "        ind = np.arange(b * n_users / n_buckets, b * n_users / n_buckets + n_users / n_buckets).astype(np.int)\n",
    "        values_0[:, b] = np.median(ctrs_0[:, ind], axis=1)\n",
    "        values_1[:, b] = np.median(ctrs_1[:, ind], axis=1)\n",
    "\n",
    "    return values_0, values_1"
   ]
  },
  {
   "cell_type": "code",
   "execution_count": 196,
   "metadata": {},
   "outputs": [],
   "source": [
    "def mannwhitney(a, b):\n",
    "    \"\"\"\n",
    "    Двусторонний тест Манна-Уитни\n",
    "    :param a: np.array вида (n_experiments, n_users), значения метрики в контроле\n",
    "    :param b: np.array вида (n_experiments, n_users), значен я метрики в тесте\n",
    "    :return: np.array вида (n_experiments), двусторонние p-value методом Манна-Уитни для всех экспериментов\n",
    "    \"\"\"\n",
    "    result = list(map(lambda x: stats.mannwhitneyu(\n",
    "        x[0], x[1], alternative='two-sided').pvalue, zip(a, b)))\n",
    "    return np.array(result)\n",
    "\n",
    "def mannwhitney_median_buckets(ctrs_0, ctrs_1, n_buckets=100):\n",
    "    return mannwhitney(*bucketization_median(ctrs_0, ctrs_1, n_buckets))"
   ]
  },
  {
   "cell_type": "code",
   "execution_count": 197,
   "metadata": {},
   "outputs": [
    {
     "data": {
      "text/plain": [
       "1172"
      ]
     },
     "execution_count": 197,
     "metadata": {},
     "output_type": "execute_result"
    }
   ],
   "source": [
    "np.sum(mannwhitney_median_buckets(clicks_A/group_A_views,clicks_B/group_B_views)<= 0.05)"
   ]
  },
  {
   "cell_type": "code",
   "execution_count": null,
   "metadata": {},
   "outputs": [],
   "source": []
  }
 ],
 "metadata": {
  "kernelspec": {
   "display_name": "Python 3",
   "language": "python",
   "name": "python3"
  },
  "language_info": {
   "codemirror_mode": {
    "name": "ipython",
    "version": 3
   },
   "file_extension": ".py",
   "mimetype": "text/x-python",
   "name": "python",
   "nbconvert_exporter": "python",
   "pygments_lexer": "ipython3",
   "version": "3.8.3"
  }
 },
 "nbformat": 4,
 "nbformat_minor": 4
}
