{
 "cells": [
  {
   "cell_type": "code",
   "execution_count": 1,
   "id": "77151134",
   "metadata": {},
   "outputs": [],
   "source": [
    "qwe = [['sime', 'special'], ['text', 'for', 'you'], ['-', 50]]"
   ]
  },
  {
   "cell_type": "code",
   "execution_count": 4,
   "id": "b017c0f3",
   "metadata": {},
   "outputs": [
    {
     "name": "stdout",
     "output_type": "stream",
     "text": [
      "sime special text for you - 50 "
     ]
    }
   ],
   "source": [
    "for i in qwe:\n",
    "    for q in i:\n",
    "        print(q, end=' ')"
   ]
  }
 ],
 "metadata": {
  "kernelspec": {
   "display_name": "Python 3 (ipykernel)",
   "language": "python",
   "name": "python3"
  },
  "language_info": {
   "codemirror_mode": {
    "name": "ipython",
    "version": 3
   },
   "file_extension": ".py",
   "mimetype": "text/x-python",
   "name": "python",
   "nbconvert_exporter": "python",
   "pygments_lexer": "ipython3",
   "version": "3.11.3"
  }
 },
 "nbformat": 4,
 "nbformat_minor": 5
}
