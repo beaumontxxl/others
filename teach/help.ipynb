{
  "nbformat": 4,
  "nbformat_minor": 0,
  "metadata": {
    "colab": {
      "provenance": [],
      "toc_visible": true,
      "authorship_tag": "ABX9TyMVettod4MmcU9GKduNalGo"
    },
    "kernelspec": {
      "name": "python3",
      "display_name": "Python 3"
    },
    "language_info": {
      "name": "python"
    }
  },
  "cells": [
    {
      "cell_type": "code",
      "execution_count": null,
      "metadata": {
        "id": "aSmKkqO2LC-v"
      },
      "outputs": [],
      "source": [
        "import pandas as pd\n",
        "import numpy as np\n",
        "\n",
        "from sklearn.metrics import f1_score, classification_report, roc_curve, roc_auc_score\n",
        "from sklearn.metrics import mean_absolute_error, mean_absolute_percentage_error\n",
        "\n",
        "from catboost import CatBoostClassifier"
      ]
    },
    {
      "cell_type": "markdown",
      "source": [
        "#BASICS"
      ],
      "metadata": {
        "id": "OpVJVG4e98pP"
      }
    },
    {
      "cell_type": "code",
      "source": [
        "! pip install catboost --upgrade\n",
        "!ls 'drive/MyDrive/data/nlp_data' # путь к диску\n",
        "\n",
        "df = pd.read_csv('drive/MyDrive/data/nlp_data/train.csv') # читаем с диска\n",
        "df = pd.read_csv('data.csv', encoding='ISO-8859-1') # вид энкодинга\n",
        "\n",
        "df = pd.Series([1,2,3,4,5,6]).reset_index() # сбросить индекс чтобы из Series сделать DataFrame\n",
        "df.merge(df2, how='left', on='price') # сджойнить столбцы по ключу price\n",
        "df.rename({'abc' : 'ABC'}, axis=1) # переименовать стобец\n",
        "\n",
        "(df['income'] - df['income'].mean()).abs().mean() # вычисляем среднее отклонение\n",
        "np.sqrt(((df['income'] - df['income'].mean())**2).sum() / (len(df)-1)) # std руками\n",
        "\n",
        "df.info() # инфо\n",
        "df.describe() # статистика по числовым значениям\n",
        "df.sample(5) #вернуть 5 случайных строк\n",
        "df.isna().mean() # процент пропусков\n",
        "df['target'].mean() # чем больше значение тем больше 1\n",
        "df['asd'].unstack() # разбить строки на столбы ( после group by)\n",
        "df.style.bar() # раскрашывает столбец в процентном соотношении\n",
        "df[df['asd'] == 'asd'].sort_values('Count', ascending=False) # отсортировать стобец по какому то значению по убыванию\n",
        "df['asd'] = pd.qcut(df['abc'],5) #сгруппировать данные по 5 категориям\n",
        "df['asd'] = (df['abc'] >= 0.2) * 1 # выбрать 20% и поставить им 1 если тру и 0 если фолс\n",
        "df['CustomerID'] = df['CustomerID'].fillna(-999999)\n",
        "(~df['asd'].isna()) * 1 # ~ заменяет True на False, там где NaN будет 0\n",
        "df[df['customer_id'].isnull()] # показать только NaN\n",
        "df['age_bin'] = pd.cut(df['age'],10) # сгруппировать непрерывную переменную на 10 групп\n",
        "\n",
        "df.groupby('year')['price'].agg(['count', 'mean', 'median']) # группирует годы в индексы цену в значения\n",
        "t = df.groupby('invoice_month')['revenue'].agg(['count', 'sum']).reset_index()\n",
        "t = df.groupby(['CustomerID','month'])[['revenue']].agg(['sum']).reset_index() # группировка по клиентам с суммой по месяцу\n",
        "df.columns = ['_'.join(col).strip() for col in df.columns.values] # убрать мультииндекс\n",
        "\n",
        "df.columns.str.lower() #показать колонки маленькими буквами"
      ],
      "metadata": {
        "id": "2M7Sm6-S-AHP"
      },
      "execution_count": null,
      "outputs": []
    },
    {
      "cell_type": "markdown",
      "source": [
        "# DATES "
      ],
      "metadata": {
        "id": "hN9NCPjCBbHA"
      }
    },
    {
      "cell_type": "code",
      "source": [
        "df['date'] = pd.to_datetime(df['date'],format='%Y-%m-%d %H:%M:%S') # преобразовать дату '2020-02-14 01:27:01'\n",
        "df['invoice_date'] = pd.to_datetime(df['invoice_date'], format='%m/%d/%Y %H:%M') # преобразовать дату '12/1/2010 8:26'\n",
        "df['invoice_date'].dt.month.value_counts() # количество по месяцам\n",
        "df['invoice_month'] = df['invoice_date'].to_numpy().astype('datetime64[M]') # проставить каждой дате 1 число месяца\n",
        "\n",
        "# создать диапазон дат с мин до макс в 1 первому числу месяца\n",
        "min_dt = df['invoice_month'].min()\n",
        "max_dt = df['invoice_month'].max()\n",
        "pd.date_range(min_dt, max_dt, freq='MS') # MS month start frequency, каждый первый день\n",
        "pd.date_range('2011-01-01', '2012-01-01', freq='MS') # или так"
      ],
      "metadata": {
        "id": "3bKJWJmnBalw"
      },
      "execution_count": null,
      "outputs": []
    },
    {
      "cell_type": "markdown",
      "source": [
        "#FOR ANALYTICS"
      ],
      "metadata": {
        "id": "GOiTMCQL_m2I"
      }
    },
    {
      "cell_type": "code",
      "source": [
        "import phik\n",
        "from phik.report import plot_correlation_matrix\n",
        "from phik import report\n",
        "phik_matrix = df.phik_matrix()\n",
        "phik_matrix['asd'].sort_values(ascending=False)"
      ],
      "metadata": {
        "id": "q5Z0CSf3tUIY"
      },
      "execution_count": null,
      "outputs": []
    },
    {
      "cell_type": "code",
      "source": [
        "mean_absolute_error(df['true'], df['pred'])\n",
        "mean_absolute_percentage_error(df['true'], df['pred'])"
      ],
      "metadata": {
        "id": "tPJCY88f_qzQ"
      },
      "execution_count": null,
      "outputs": []
    },
    {
      "cell_type": "markdown",
      "source": [
        "#DEFS"
      ],
      "metadata": {
        "id": "oRVs9C-i-sRv"
      }
    },
    {
      "cell_type": "code",
      "source": [
        "# соединить несколько файлов в один\n",
        "names_by_year = {}\n",
        "for year in range(1880, 2018):\n",
        "    names_by_year[year] = pd.read_csv(\n",
        "        f'names/yob{year}.txt',\n",
        "        names=['Name','Gender','Count']\n",
        "    )\n",
        "\n",
        "names_all = pd.concat(names_by_year).reset_index(level=1, drop=True)\n",
        "names_all"
      ],
      "metadata": {
        "id": "miX9ximY-vuB"
      },
      "execution_count": null,
      "outputs": []
    },
    {
      "cell_type": "code",
      "source": [
        "def device_group(x):\n",
        "  if 'iphone' in x:\n",
        "    return 'iphone'\n",
        "  if 'huawei' in x:\n",
        "    return 'huawei'\n",
        "  if 'samsung' in x:\n",
        "    return 'samsung'\n",
        "  if 'tecno' in x:\n",
        "    return 'tecno'\n",
        "  if 'xiaomi' in x:\n",
        "    return 'xiaomi'\n",
        "  if 'nokia' in x:\n",
        "    return 'nokia'\n",
        "  return 'misc'\n",
        "\n",
        "  df['device_group'] = df['device_name'].str.lower().apply(device_group)"
      ],
      "metadata": {
        "id": "e3wm4G0zs75J"
      },
      "execution_count": null,
      "outputs": []
    },
    {
      "cell_type": "markdown",
      "source": [
        "#TRAIN_TEST"
      ],
      "metadata": {
        "id": "sK93jlo39KqH"
      }
    },
    {
      "cell_type": "code",
      "source": [
        "from sklearn.model_selection import train_test_split"
      ],
      "metadata": {
        "id": "aT5uQnl_9KSX"
      },
      "execution_count": null,
      "outputs": []
    },
    {
      "cell_type": "code",
      "source": [
        "X_train, X_test, y_train, y_test = train_test_split(X, y, test_size=0.33, \n",
        "                                                    random_state=42)\n",
        "train = df.sample(frac=0.8).copy() # берём 80% от дф\n",
        "val = df[~df.index.isin(train.index)].copy() # берем всё что не вошло в 80%"
      ],
      "metadata": {
        "id": "OarjFc4t9X9n"
      },
      "execution_count": null,
      "outputs": []
    },
    {
      "cell_type": "code",
      "source": [
        "model = CatBoostClassifier()\n",
        "model.fit(train[X_col], train[y_col], eval_set=(val[X_col], val[y_col]))\n",
        "model.predict(val[X_col])"
      ],
      "metadata": {
        "id": "P7iy8-yDO3pU"
      },
      "execution_count": null,
      "outputs": []
    },
    {
      "cell_type": "code",
      "source": [
        "f1_score(t['y_true'], t['y_pred'])\n",
        "print(classification_report(t['y_true'], t['y_pred']))"
      ],
      "metadata": {
        "id": "BHOSLKYpocPY"
      },
      "execution_count": null,
      "outputs": []
    },
    {
      "cell_type": "code",
      "source": [
        "t = pd.DataFrame({'y_true': val['target'].copy(), \n",
        "                  'y_pred': model.predict(val[X_col]),\n",
        "                 'y_score': model.predict_proba(val[X_col])[:,1]})"
      ],
      "metadata": {
        "id": "FBWN4_PXq-FL"
      },
      "execution_count": null,
      "outputs": []
    },
    {
      "cell_type": "markdown",
      "source": [
        "#PLOTS"
      ],
      "metadata": {
        "id": "xg63ucAg81bX"
      }
    },
    {
      "cell_type": "code",
      "source": [
        "import matplotlib.pyplot as plt\n",
        "%matplotlib inline\n",
        "plt.style.use('dark_background')"
      ],
      "metadata": {
        "id": "Fa7gOc_P83wM"
      },
      "execution_count": null,
      "outputs": []
    },
    {
      "cell_type": "code",
      "source": [
        "from pylab import rcParams # изменить размер графиков\n",
        "rcParams['figure.figsize'] = 12,9"
      ],
      "metadata": {
        "id": "lGGexnqs8_TT"
      },
      "execution_count": null,
      "outputs": []
    },
    {
      "cell_type": "code",
      "source": [
        "df.groupby('year')['price'].median().plot() # график медианной зависимости цены от года\n",
        "plt.barh(df2['Name'], df2['Count']) #горизонтальный столбцы по двум стобцам"
      ],
      "metadata": {
        "id": "quSii9ZKAfsg"
      },
      "execution_count": null,
      "outputs": []
    }
  ]
}